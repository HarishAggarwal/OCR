{
  "cells": [
    {
      "cell_type": "code",
      "execution_count": 49,
      "metadata": {
        "id": "KmcbGSqy8xr3"
      },
      "outputs": [],
      "source": [
        "import cv2\n",
        "import numpy as np\n",
        "import os\n",
        "import tensorflow as tf\n",
        "from tensorflow.keras.models import Sequential\n",
        "from tensorflow.keras.layers import Conv2D, MaxPooling2D, Flatten, Dense\n",
        "from tensorflow.keras.datasets import mnist"
      ]
    },
    {
      "cell_type": "code",
      "execution_count": 67,
      "metadata": {
        "id": "2sE0DHmw_1l4"
      },
      "outputs": [],
      "source": [
        "import matplotlib.pyplot as plt"
      ]
    },
    {
      "cell_type": "code",
      "execution_count": 50,
      "metadata": {
        "id": "e-YsUHJU-SJz"
      },
      "outputs": [],
      "source": [
        "from google.colab.patches import cv2_imshow"
      ]
    },
    {
      "cell_type": "code",
      "execution_count": 51,
      "metadata": {
        "id": "-wOY2hzTuGVa"
      },
      "outputs": [],
      "source": [
        "import struct"
      ]
    },
    {
      "cell_type": "code",
      "execution_count": 52,
      "metadata": {
        "id": "syaEtLZzuI0G"
      },
      "outputs": [],
      "source": [
        "from array import array"
      ]
    },
    {
      "cell_type": "code",
      "execution_count": 53,
      "metadata": {
        "id": "yOG6fIX183-L"
      },
      "outputs": [],
      "source": [
        "def preprocess_image(image_path):\n",
        "    image = cv2.imread(image_path)\n",
        "    gray_image = cv2.cvtColor(image, cv2.COLOR_BGR2GRAY)\n",
        "    binary_image = cv2.adaptiveThreshold(\n",
        "        gray_image, 255, cv2.ADAPTIVE_THRESH_GAUSSIAN_C, cv2.THRESH_BINARY, 11, 2\n",
        "    )\n",
        "    denoised_image = cv2.medianBlur(binary_image, 3)\n",
        "    cv2_imshow(denoised_image)\n",
        "    cv2.waitKey(0)\n",
        "    cv2.destroyAllWindows()\n",
        "    return denoised_image"
      ]
    },
    {
      "cell_type": "code",
      "execution_count": 54,
      "metadata": {
        "id": "tfoM473g88sY"
      },
      "outputs": [],
      "source": [
        "def segment_characters(binary_image, output_dir=\"segmented_characters\"):\n",
        "    contours, _ = cv2.findContours(binary_image, cv2.RETR_EXTERNAL, cv2.CHAIN_APPROX_SIMPLE)\n",
        "    os.makedirs(output_dir, exist_ok=True)\n",
        "    char_images = []\n",
        "    for i, contour in enumerate(contours):\n",
        "        x, y, w, h = cv2.boundingRect(contour)\n",
        "        if w > 10 and h > 10:  # Filter noise\n",
        "            char_image = binary_image[y:y+h, x:x+w]\n",
        "            char_path = os.path.join(output_dir, f\"char_{i}.png\")\n",
        "            cv2.imwrite(char_path, char_image)\n",
        "            char_images.append(char_image)\n",
        "            print(f\"Segmented character {i}: {x}, {y}, {w}, {h}\")\n",
        "            cv2_imshow(char_image)  # Visualize each segmented character\n",
        "    if not char_images:\n",
        "        raise ValueError(\"No characters were segmented.\")\n",
        "    return sorted(char_images, key=lambda img: cv2.boundingRect(img)[0])"
      ]
    },
    {
      "cell_type": "code",
      "execution_count": 55,
      "metadata": {
        "id": "fglfFAZM8_UE"
      },
      "outputs": [],
      "source": [
        "# def extract_features(char_image):\n",
        "#     resize_image = cv2.resize(char_image, (28, 28))\n",
        "#     # Normalize pixel values\n",
        "#     feature_vector = resize_image.flatten() / 255.0\n",
        "#     return feature_vector"
      ]
    },
    {
      "cell_type": "code",
      "execution_count": 56,
      "metadata": {
        "id": "-87sviva9Egr"
      },
      "outputs": [],
      "source": [
        "# def knn(train_data,train_labels,test_data,k=3):\n",
        "#     distance=np.linalg.norm(train_data-test_data,axis=1)\n",
        "#     sorted_indices=np.argsort(distance)\n",
        "#     top_k_labels=train_labels[sorted_indices[:k]]\n",
        "#     return np.bincount(top_k_labels).argmax()"
      ]
    },
    {
      "cell_type": "code",
      "execution_count": 57,
      "metadata": {
        "id": "PUFs670t9IMR"
      },
      "outputs": [],
      "source": [
        "# def perform_ocr(image_path,train_data,train_labels):\n",
        "#     denoised_binary_image=preprocess_image(image_path)\n",
        "#     char_images=segment_characters(denoised_binary_image)\n",
        "#     predictions=[]\n",
        "#     for char_image in char_images:\n",
        "#         features=extract_features(char_image)\n",
        "#         prediction=knn(np.array(train_data),np.array(train_labels),features)\n",
        "#         predictions.append(prediction)\n",
        "\n",
        "#     return predictions"
      ]
    },
    {
      "cell_type": "code",
      "execution_count": 58,
      "metadata": {
        "id": "BwlWnf3K9K4x"
      },
      "outputs": [],
      "source": [
        "#Creating a dummy dataset\n",
        "# train_data=[]\n",
        "# train_labels=[]\n",
        "# for i in range(10):\n",
        "#     dummy_image=np.zeros((28,28),dtype=np.uint8)\n",
        "#     cv2.putText(dummy_image,str(i),(5,23),cv2.FONT_HERSHEY_SIMPLEX,0.8,(255),2)\n",
        "#     # cv2.imshow('Character',dummy_image)\n",
        "#     # cv2.waitKey(0)\n",
        "#     train_data.append(dummy_image.flatten())\n",
        "#     train_labels.append(i)"
      ]
    },
    {
      "cell_type": "code",
      "execution_count": 59,
      "metadata": {
        "id": "KtSvEqbex2jC"
      },
      "outputs": [],
      "source": [
        "# # Load the MNIST dataset\n",
        "# (x_train, y_train), (x_test, y_test) = mnist.load_data()\n",
        "\n",
        "# # Normalize the pixel values (scale to range 0-1)\n",
        "# x_train = x_train.astype('float32') / 255.0\n",
        "# x_test = x_test.astype('float32') / 255.0\n",
        "\n",
        "# # Reshape the data for use with fully connected layers (flatten images)\n",
        "# train_data = x_train.reshape(x_train.shape[0], -1)\n",
        "# test_data = x_test.reshape(x_test.shape[0], -1)\n",
        "\n",
        "# # Print the shapes of the data\n",
        "# print(\"Training data shape:\", train_data.shape)\n",
        "# print(\"Training labels shape:\", y_train.shape)\n",
        "# print(\"Test data shape:\", test_data.shape)\n",
        "# print(\"Test labels shape:\", y_test.shape)\n",
        "\n",
        "# # Now you can use train_data, y_train, test_data, and y_test for your OCR or any other application\n"
      ]
    },
    {
      "cell_type": "markdown",
      "metadata": {
        "id": "tKDwzAuk53o7"
      },
      "source": [
        "Since KNN is not working well in detecting curves"
      ]
    },
    {
      "cell_type": "code",
      "execution_count": 60,
      "metadata": {
        "id": "LDBdNdIT9ZTB"
      },
      "outputs": [],
      "source": [
        "# #Testing the OCR\n",
        "# image_path=\"3.png\"\n",
        "# predicted_labels=perform_ocr(image_path,train_data,y_train)\n",
        "# print(f\"Predicted Text : {''.join(map(str,predicted_labels))}\")"
      ]
    },
    {
      "cell_type": "markdown",
      "metadata": {
        "id": "MH1_s3mb6BiM"
      },
      "source": [
        "Using CNN for OCR for a better understanding of Curves and Edges"
      ]
    },
    {
      "cell_type": "code",
      "execution_count": 61,
      "metadata": {
        "id": "H7pqucAe6A9D"
      },
      "outputs": [],
      "source": [
        "def build_cnn_model():\n",
        "    model = Sequential([\n",
        "        Conv2D(32, (3, 3), activation='relu', input_shape=(28, 28, 1)),\n",
        "        MaxPooling2D((2, 2)),\n",
        "        Conv2D(64, (3, 3), activation='relu'),\n",
        "        MaxPooling2D((2, 2)),\n",
        "        Flatten(),\n",
        "        Dense(128, activation='relu'),\n",
        "        Dense(10, activation='softmax')  # 10 classes for digits 0-9\n",
        "    ])\n",
        "    model.compile(optimizer='adam', loss='sparse_categorical_crossentropy', metrics=['accuracy'])\n",
        "    return model"
      ]
    },
    {
      "cell_type": "code",
      "execution_count": 62,
      "metadata": {
        "colab": {
          "base_uri": "https://localhost:8080/"
        },
        "id": "Y0v2AU6K6Vay",
        "outputId": "3029a2ff-0080-45b3-82cc-fbd6d1c20c87"
      },
      "outputs": [
        {
          "name": "stdout",
          "output_type": "stream",
          "text": [
            "Epoch 1/5\n",
            "\u001b[1m938/938\u001b[0m \u001b[32m━━━━━━━━━━━━━━━━━━━━\u001b[0m\u001b[37m\u001b[0m \u001b[1m57s\u001b[0m 59ms/step - accuracy: 0.8942 - loss: 0.3468 - val_accuracy: 0.9841 - val_loss: 0.0485\n",
            "Epoch 2/5\n",
            "\u001b[1m938/938\u001b[0m \u001b[32m━━━━━━━━━━━━━━━━━━━━\u001b[0m\u001b[37m\u001b[0m \u001b[1m79s\u001b[0m 56ms/step - accuracy: 0.9850 - loss: 0.0499 - val_accuracy: 0.9873 - val_loss: 0.0394\n",
            "Epoch 3/5\n",
            "\u001b[1m938/938\u001b[0m \u001b[32m━━━━━━━━━━━━━━━━━━━━\u001b[0m\u001b[37m\u001b[0m \u001b[1m54s\u001b[0m 58ms/step - accuracy: 0.9899 - loss: 0.0332 - val_accuracy: 0.9863 - val_loss: 0.0399\n",
            "Epoch 4/5\n",
            "\u001b[1m938/938\u001b[0m \u001b[32m━━━━━━━━━━━━━━━━━━━━\u001b[0m\u001b[37m\u001b[0m \u001b[1m79s\u001b[0m 55ms/step - accuracy: 0.9925 - loss: 0.0235 - val_accuracy: 0.9908 - val_loss: 0.0265\n",
            "Epoch 5/5\n",
            "\u001b[1m938/938\u001b[0m \u001b[32m━━━━━━━━━━━━━━━━━━━━\u001b[0m\u001b[37m\u001b[0m \u001b[1m83s\u001b[0m 56ms/step - accuracy: 0.9942 - loss: 0.0183 - val_accuracy: 0.9895 - val_loss: 0.0311\n"
          ]
        },
        {
          "data": {
            "text/plain": [
              "<keras.src.callbacks.history.History at 0x7c9c8c366020>"
            ]
          },
          "execution_count": 62,
          "metadata": {},
          "output_type": "execute_result"
        }
      ],
      "source": [
        "(x_train, y_train), (x_test, y_test) = mnist.load_data()\n",
        "\n",
        "# Normalize pixel values and reshape\n",
        "x_train = x_train.astype('float32') / 255.0\n",
        "x_test = x_test.astype('float32') / 255.0\n",
        "x_train = x_train.reshape(x_train.shape[0], 28, 28, 1)  # Add channel dimension\n",
        "x_test = x_test.reshape(x_test.shape[0], 28, 28, 1)\n",
        "\n",
        "# Build and train the CNN\n",
        "cnn_model = build_cnn_model()\n",
        "cnn_model.fit(x_train, y_train, epochs=5, batch_size=64, validation_data=(x_test, y_test))"
      ]
    },
    {
      "cell_type": "code",
      "execution_count": 68,
      "metadata": {
        "colab": {
          "base_uri": "https://localhost:8080/",
          "height": 428
        },
        "id": "u1a7jx_n_ye4",
        "outputId": "a6caa40c-d200-42a7-cf1e-a1c6796efee8"
      },
      "outputs": [
        {
          "data": {
            "image/png": "[encoded data removed]",
            "text/plain": [
              "<Figure size 640x480 with 1 Axes>"
            ]
          },
          "metadata": {},
          "output_type": "display_data"
        }
      ],
      "source": [
        "example_image = x_test[0]\n",
        "example_label = y_test[0]\n",
        "\n",
        "# Save the example image as a PNG file for testing\n",
        "import cv2\n",
        "cv2.imwrite('mnist_example.png', example_image)\n",
        "\n",
        "# Display the image and its label\n",
        "plt.imshow(example_image, cmap='gray')\n",
        "plt.title(f\"Label: {example_label}\")\n",
        "plt.axis('off')\n",
        "plt.show()"
      ]
    },
    {
      "cell_type": "code",
      "execution_count": 63,
      "metadata": {
        "id": "SnCMAhyq6tKS"
      },
      "outputs": [],
      "source": [
        "def perform_ocr_with_cnn(image_path, cnn_model):\n",
        "    denoised_binary_image = preprocess_image(image_path)  # Preprocess the input image\n",
        "    char_images = segment_characters(denoised_binary_image)  # Segment characters\n",
        "    predictions = []\n",
        "    for char_image in char_images:\n",
        "        # Resize the character to 28x28 while preserving the aspect ratio\n",
        "        h, w = char_image.shape\n",
        "        if h > w:\n",
        "            scale = 28 / h\n",
        "            new_h, new_w = 28, int(w * scale)\n",
        "        else:\n",
        "            scale = 28 / w\n",
        "            new_h, new_w = int(h * scale), 28\n",
        "\n",
        "        resized_char = cv2.resize(char_image, (new_w, new_h), interpolation=cv2.INTER_AREA)\n",
        "\n",
        "        # Pad the resized character to make it 28x28\n",
        "        padded_char = np.pad(\n",
        "            resized_char,\n",
        "            ((0, 28 - resized_char.shape[0]), (0, 28 - resized_char.shape[1])),\n",
        "            mode='constant',\n",
        "            constant_values=0\n",
        "        )\n",
        "\n",
        "        # Normalize pixel values\n",
        "        normalized_char = padded_char.astype('float32') / 255.0\n",
        "        normalized_char = normalized_char.reshape(1, 28, 28, 1)  # Add batch and channel dimensions\n",
        "\n",
        "        # Predict the character using the CNN model\n",
        "        probabilities = cnn_model.predict(normalized_char)\n",
        "        prediction = np.argmax(probabilities, axis=1)[0]\n",
        "        confidence = probabilities[0][prediction]\n",
        "        print(f\"Predicted: {prediction}, Confidence: {confidence:.2f}\")\n",
        "        predictions.append(prediction)\n",
        "\n",
        "    return predictions"
      ]
    },
    {
      "cell_type": "code",
      "execution_count": 69,
      "metadata": {
        "colab": {
          "base_uri": "https://localhost:8080/",
          "height": 912
        },
        "id": "sFMty8aZ6xH-",
        "outputId": "7d5debac-c573-4878-e410-d8f24f96e5e6"
      },
      "outputs": [
        {
          "data": {
            "image/jpeg": "[encoded data removed]",
            "image/png": "[encoded data removed]",
            "text/plain": [
              "<PIL.Image.Image image mode=L size=389x411>"
            ]
          },
          "metadata": {},
          "output_type": "display_data"
        },
        {
          "name": "stdout",
          "output_type": "stream",
          "text": [
            "Segmented character 0: 0, 0, 389, 411\n"
          ]
        },
        {
          "data": {
            "image/jpeg": "[encoded data removed]",
            "image/png": "[encoded data removed]",
            "text/plain": [
              "<PIL.Image.Image image mode=L size=389x411>"
            ]
          },
          "metadata": {},
          "output_type": "display_data"
        },
        {
          "name": "stdout",
          "output_type": "stream",
          "text": [
            "\u001b[1m1/1\u001b[0m \u001b[32m━━━━━━━━━━━━━━━━━━━━\u001b[0m\u001b[37m\u001b[0m \u001b[1m0s\u001b[0m 23ms/step\n",
            "Predicted: 0, Confidence: 0.25\n",
            "Predicted Text: 0\n"
          ]
        }
      ],
      "source": [
        "# Test the CNN-based OCR\n",
        "image_path = \"7.png\"  # Input image path\n",
        "predicted_labels = perform_ocr_with_cnn(image_path, cnn_model)\n",
        "print(f\"Predicted Text: {''.join(map(str, predicted_labels))}\")"
      ]
    }
  ],
  "metadata": {
    "colab": {
      "provenance": []
    },
    "kernelspec": {
      "display_name": "OCR",
      "language": "python",
      "name": "python3"
    },
    "language_info": {
      "name": "python",
      "version": "3.12.4"
    }
  },
  "nbformat": 4,
  "nbformat_minor": 0
}
